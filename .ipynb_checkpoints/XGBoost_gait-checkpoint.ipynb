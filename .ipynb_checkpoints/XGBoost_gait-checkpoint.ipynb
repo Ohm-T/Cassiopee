{
 "cells": [
  {
   "cell_type": "code",
   "execution_count": 2,
   "metadata": {},
   "outputs": [
    {
     "ename": "FileNotFoundError",
     "evalue": "[Errno 2] No such file or directory: '../data/Gait_Data___Arm_swing.csv'",
     "output_type": "error",
     "traceback": [
      "\u001b[0;31m---------------------------------------------------------------------------\u001b[0m",
      "\u001b[0;31mFileNotFoundError\u001b[0m                         Traceback (most recent call last)",
      "Input \u001b[0;32mIn [2]\u001b[0m, in \u001b[0;36m<cell line: 19>\u001b[0;34m()\u001b[0m\n\u001b[1;32m     11\u001b[0m source2 \u001b[38;5;241m=\u001b[39m \u001b[38;5;124m'\u001b[39m\u001b[38;5;124m../data/Consensus_Committee_Analytic_Datasets_28OCT21.xlsx\u001b[39m\u001b[38;5;124m'\u001b[39m\n\u001b[1;32m     13\u001b[0m \u001b[38;5;66;03m#Local jupyter\u001b[39;00m\n\u001b[1;32m     14\u001b[0m \u001b[38;5;66;03m#source2 = \"../Quick_Start/Consensus_Committee_Analytic_Datasets_28OCT21.xlsx\"\u001b[39;00m\n\u001b[1;32m     15\u001b[0m \u001b[38;5;66;03m#source1 = \"../Motor___MDS-UPDRS/Gait_Data___Arm_swing.csv\"\u001b[39;00m\n\u001b[1;32m     16\u001b[0m \n\u001b[1;32m     17\u001b[0m \n\u001b[1;32m     18\u001b[0m \u001b[38;5;66;03m# import data for a first visualisation\u001b[39;00m\n\u001b[0;32m---> 19\u001b[0m data \u001b[38;5;241m=\u001b[39m \u001b[43mpd\u001b[49m\u001b[38;5;241;43m.\u001b[39;49m\u001b[43mread_csv\u001b[49m\u001b[43m(\u001b[49m\u001b[43msource1\u001b[49m\u001b[43m)\u001b[49m\n\u001b[1;32m     20\u001b[0m data\u001b[38;5;241m.\u001b[39mhead()\n\u001b[1;32m     22\u001b[0m \u001b[38;5;66;03m# df_first = merge of all csv sheets from Analytic Datasets\u001b[39;00m\n",
      "File \u001b[0;32m~/[/home/salembien/Bureau/anaconda3]/envs/IA/lib/python3.8/site-packages/pandas/io/parsers.py:686\u001b[0m, in \u001b[0;36mread_csv\u001b[0;34m(filepath_or_buffer, sep, delimiter, header, names, index_col, usecols, squeeze, prefix, mangle_dupe_cols, dtype, engine, converters, true_values, false_values, skipinitialspace, skiprows, skipfooter, nrows, na_values, keep_default_na, na_filter, verbose, skip_blank_lines, parse_dates, infer_datetime_format, keep_date_col, date_parser, dayfirst, cache_dates, iterator, chunksize, compression, thousands, decimal, lineterminator, quotechar, quoting, doublequote, escapechar, comment, encoding, dialect, error_bad_lines, warn_bad_lines, delim_whitespace, low_memory, memory_map, float_precision)\u001b[0m\n\u001b[1;32m    633\u001b[0m     engine_specified \u001b[38;5;241m=\u001b[39m \u001b[38;5;28;01mFalse\u001b[39;00m\n\u001b[1;32m    635\u001b[0m kwds\u001b[38;5;241m.\u001b[39mupdate(\n\u001b[1;32m    636\u001b[0m     delimiter\u001b[38;5;241m=\u001b[39mdelimiter,\n\u001b[1;32m    637\u001b[0m     engine\u001b[38;5;241m=\u001b[39mengine,\n\u001b[0;32m   (...)\u001b[0m\n\u001b[1;32m    683\u001b[0m     skip_blank_lines\u001b[38;5;241m=\u001b[39mskip_blank_lines,\n\u001b[1;32m    684\u001b[0m )\n\u001b[0;32m--> 686\u001b[0m \u001b[38;5;28;01mreturn\u001b[39;00m \u001b[43m_read\u001b[49m\u001b[43m(\u001b[49m\u001b[43mfilepath_or_buffer\u001b[49m\u001b[43m,\u001b[49m\u001b[43m \u001b[49m\u001b[43mkwds\u001b[49m\u001b[43m)\u001b[49m\n",
      "File \u001b[0;32m~/[/home/salembien/Bureau/anaconda3]/envs/IA/lib/python3.8/site-packages/pandas/io/parsers.py:452\u001b[0m, in \u001b[0;36m_read\u001b[0;34m(filepath_or_buffer, kwds)\u001b[0m\n\u001b[1;32m    449\u001b[0m _validate_names(kwds\u001b[38;5;241m.\u001b[39mget(\u001b[38;5;124m\"\u001b[39m\u001b[38;5;124mnames\u001b[39m\u001b[38;5;124m\"\u001b[39m, \u001b[38;5;28;01mNone\u001b[39;00m))\n\u001b[1;32m    451\u001b[0m \u001b[38;5;66;03m# Create the parser.\u001b[39;00m\n\u001b[0;32m--> 452\u001b[0m parser \u001b[38;5;241m=\u001b[39m \u001b[43mTextFileReader\u001b[49m\u001b[43m(\u001b[49m\u001b[43mfp_or_buf\u001b[49m\u001b[43m,\u001b[49m\u001b[43m \u001b[49m\u001b[38;5;241;43m*\u001b[39;49m\u001b[38;5;241;43m*\u001b[39;49m\u001b[43mkwds\u001b[49m\u001b[43m)\u001b[49m\n\u001b[1;32m    454\u001b[0m \u001b[38;5;28;01mif\u001b[39;00m chunksize \u001b[38;5;129;01mor\u001b[39;00m iterator:\n\u001b[1;32m    455\u001b[0m     \u001b[38;5;28;01mreturn\u001b[39;00m parser\n",
      "File \u001b[0;32m~/[/home/salembien/Bureau/anaconda3]/envs/IA/lib/python3.8/site-packages/pandas/io/parsers.py:946\u001b[0m, in \u001b[0;36mTextFileReader.__init__\u001b[0;34m(self, f, engine, **kwds)\u001b[0m\n\u001b[1;32m    943\u001b[0m \u001b[38;5;28;01mif\u001b[39;00m \u001b[38;5;124m\"\u001b[39m\u001b[38;5;124mhas_index_names\u001b[39m\u001b[38;5;124m\"\u001b[39m \u001b[38;5;129;01min\u001b[39;00m kwds:\n\u001b[1;32m    944\u001b[0m     \u001b[38;5;28mself\u001b[39m\u001b[38;5;241m.\u001b[39moptions[\u001b[38;5;124m\"\u001b[39m\u001b[38;5;124mhas_index_names\u001b[39m\u001b[38;5;124m\"\u001b[39m] \u001b[38;5;241m=\u001b[39m kwds[\u001b[38;5;124m\"\u001b[39m\u001b[38;5;124mhas_index_names\u001b[39m\u001b[38;5;124m\"\u001b[39m]\n\u001b[0;32m--> 946\u001b[0m \u001b[38;5;28;43mself\u001b[39;49m\u001b[38;5;241;43m.\u001b[39;49m\u001b[43m_make_engine\u001b[49m\u001b[43m(\u001b[49m\u001b[38;5;28;43mself\u001b[39;49m\u001b[38;5;241;43m.\u001b[39;49m\u001b[43mengine\u001b[49m\u001b[43m)\u001b[49m\n",
      "File \u001b[0;32m~/[/home/salembien/Bureau/anaconda3]/envs/IA/lib/python3.8/site-packages/pandas/io/parsers.py:1178\u001b[0m, in \u001b[0;36mTextFileReader._make_engine\u001b[0;34m(self, engine)\u001b[0m\n\u001b[1;32m   1176\u001b[0m \u001b[38;5;28;01mdef\u001b[39;00m \u001b[38;5;21m_make_engine\u001b[39m(\u001b[38;5;28mself\u001b[39m, engine\u001b[38;5;241m=\u001b[39m\u001b[38;5;124m\"\u001b[39m\u001b[38;5;124mc\u001b[39m\u001b[38;5;124m\"\u001b[39m):\n\u001b[1;32m   1177\u001b[0m     \u001b[38;5;28;01mif\u001b[39;00m engine \u001b[38;5;241m==\u001b[39m \u001b[38;5;124m\"\u001b[39m\u001b[38;5;124mc\u001b[39m\u001b[38;5;124m\"\u001b[39m:\n\u001b[0;32m-> 1178\u001b[0m         \u001b[38;5;28mself\u001b[39m\u001b[38;5;241m.\u001b[39m_engine \u001b[38;5;241m=\u001b[39m \u001b[43mCParserWrapper\u001b[49m\u001b[43m(\u001b[49m\u001b[38;5;28;43mself\u001b[39;49m\u001b[38;5;241;43m.\u001b[39;49m\u001b[43mf\u001b[49m\u001b[43m,\u001b[49m\u001b[43m \u001b[49m\u001b[38;5;241;43m*\u001b[39;49m\u001b[38;5;241;43m*\u001b[39;49m\u001b[38;5;28;43mself\u001b[39;49m\u001b[38;5;241;43m.\u001b[39;49m\u001b[43moptions\u001b[49m\u001b[43m)\u001b[49m\n\u001b[1;32m   1179\u001b[0m     \u001b[38;5;28;01melse\u001b[39;00m:\n\u001b[1;32m   1180\u001b[0m         \u001b[38;5;28;01mif\u001b[39;00m engine \u001b[38;5;241m==\u001b[39m \u001b[38;5;124m\"\u001b[39m\u001b[38;5;124mpython\u001b[39m\u001b[38;5;124m\"\u001b[39m:\n",
      "File \u001b[0;32m~/[/home/salembien/Bureau/anaconda3]/envs/IA/lib/python3.8/site-packages/pandas/io/parsers.py:2008\u001b[0m, in \u001b[0;36mCParserWrapper.__init__\u001b[0;34m(self, src, **kwds)\u001b[0m\n\u001b[1;32m   2005\u001b[0m \u001b[38;5;28mself\u001b[39m\u001b[38;5;241m.\u001b[39musecols, \u001b[38;5;28mself\u001b[39m\u001b[38;5;241m.\u001b[39musecols_dtype \u001b[38;5;241m=\u001b[39m _validate_usecols_arg(kwds[\u001b[38;5;124m\"\u001b[39m\u001b[38;5;124musecols\u001b[39m\u001b[38;5;124m\"\u001b[39m])\n\u001b[1;32m   2006\u001b[0m kwds[\u001b[38;5;124m\"\u001b[39m\u001b[38;5;124musecols\u001b[39m\u001b[38;5;124m\"\u001b[39m] \u001b[38;5;241m=\u001b[39m \u001b[38;5;28mself\u001b[39m\u001b[38;5;241m.\u001b[39musecols\n\u001b[0;32m-> 2008\u001b[0m \u001b[38;5;28mself\u001b[39m\u001b[38;5;241m.\u001b[39m_reader \u001b[38;5;241m=\u001b[39m \u001b[43mparsers\u001b[49m\u001b[38;5;241;43m.\u001b[39;49m\u001b[43mTextReader\u001b[49m\u001b[43m(\u001b[49m\u001b[43msrc\u001b[49m\u001b[43m,\u001b[49m\u001b[43m \u001b[49m\u001b[38;5;241;43m*\u001b[39;49m\u001b[38;5;241;43m*\u001b[39;49m\u001b[43mkwds\u001b[49m\u001b[43m)\u001b[49m\n\u001b[1;32m   2009\u001b[0m \u001b[38;5;28mself\u001b[39m\u001b[38;5;241m.\u001b[39munnamed_cols \u001b[38;5;241m=\u001b[39m \u001b[38;5;28mself\u001b[39m\u001b[38;5;241m.\u001b[39m_reader\u001b[38;5;241m.\u001b[39munnamed_cols\n\u001b[1;32m   2011\u001b[0m passed_names \u001b[38;5;241m=\u001b[39m \u001b[38;5;28mself\u001b[39m\u001b[38;5;241m.\u001b[39mnames \u001b[38;5;129;01mis\u001b[39;00m \u001b[38;5;28;01mNone\u001b[39;00m\n",
      "File \u001b[0;32mpandas/_libs/parsers.pyx:382\u001b[0m, in \u001b[0;36mpandas._libs.parsers.TextReader.__cinit__\u001b[0;34m()\u001b[0m\n",
      "File \u001b[0;32mpandas/_libs/parsers.pyx:674\u001b[0m, in \u001b[0;36mpandas._libs.parsers.TextReader._setup_parser_source\u001b[0;34m()\u001b[0m\n",
      "\u001b[0;31mFileNotFoundError\u001b[0m: [Errno 2] No such file or directory: '../data/Gait_Data___Arm_swing.csv'"
     ]
    }
   ],
   "source": [
    "import numpy as np \n",
    "import matplotlib.pyplot as plt\n",
    "import seaborn as sns\n",
    "import pandas as pd\n",
    "\n",
    "from sklearn.metrics import accuracy_score\n",
    "from sklearn.model_selection import train_test_split\n",
    "\n",
    "#LABIA\n",
    "source1 = '../data/Gait_Data___Arm_swing.csv'\n",
    "source2 = '../data/Consensus_Committee_Analytic_Datasets_28OCT21.xlsx'\n",
    "\n",
    "#Local jupyter\n",
    "#source2 = \"../Quick_Start/Consensus_Committee_Analytic_Datasets_28OCT21.xlsx\"\n",
    "#source1 = \"../Motor___MDS-UPDRS/Gait_Data___Arm_swing.csv\"\n",
    "\n",
    "\n",
    "# import data for a first visualisation\n",
    "data = pd.read_csv(source1)\n",
    "data.head()\n",
    "\n",
    "# df_first = merge of all csv sheets from Analytic Datasets\n",
    "file = source2\n",
    "\n",
    "df1 = pd.read_excel(file,'PD')\n",
    "df2 = pd.read_excel(file, 'HC')\n",
    "df3 = pd.read_excel(file, 'Prodromal')\n",
    "df4 = pd.read_excel(file, 'SWEDD')\n",
    "\n",
    "df = pd.concat([df1, df2, df3, df4])\n",
    "\n",
    "df_first = df.sort_values(['PATNO'])\n",
    "df_first = df_first.set_index('PATNO')\n",
    "\n",
    "#df_arm file analyzed\n",
    "file_arm = source1\n",
    "df_arm = pd.read_csv(file_arm)\n",
    "\n",
    "# Get the PATNO of the unknown cohort\n",
    "df_na_arm = df_arm.loc[df_arm['COHORT'].isna(),['PATNO']]\n",
    "# Get their cohort\n",
    "df_complete = df_first.loc[df_na_arm['PATNO'],['Cohort']].replace(['Prodromal',\"Parkinson's Disease\"],[1,3])\n",
    "#Replace Nan in df_arm['COHORT']\n",
    "df_arm.loc[df_arm.COHORT.isnull(), 'COHORT'] = list(df_complete['Cohort'])\n",
    "\n",
    "# remplace v8 et V8 par V08 idem V2 v6 V10 v10 v11\n",
    "df_arm[\"EVENT_ID\"].iloc[np.where(df_arm[\"EVENT_ID\"]=='v8')]='V08'\n",
    "df_arm[\"EVENT_ID\"].iloc[np.where(df_arm[\"EVENT_ID\"]=='V8')]='V08'\n",
    "df_arm[\"EVENT_ID\"].iloc[np.where(df_arm[\"EVENT_ID\"]=='V2')]='V02'\n",
    "df_arm[\"EVENT_ID\"].iloc[np.where(df_arm[\"EVENT_ID\"]=='v6')]='V06'\n",
    "df_arm[\"EVENT_ID\"].iloc[np.where(df_arm[\"EVENT_ID\"]=='v10')]='V10'\n",
    "df_arm[\"EVENT_ID\"].iloc[np.where(df_arm[\"EVENT_ID\"]=='v11')]='V11'"
   ]
  },
  {
   "cell_type": "code",
   "execution_count": null,
   "metadata": {},
   "outputs": [],
   "source": [
    "# 1ère méthode pour combler Nan avec KNN\n",
    "\n",
    "from sklearn.impute import KNNImputer \n",
    "\n",
    "imputer = KNNImputer(n_neighbors=3)\n",
    "df_arm_full = imputer.fit_transform(df_arm.iloc[:,4:])\n",
    "df_arm_full = pd.DataFrame(df_arm_full, columns=df_arm.iloc[:,4:].columns)\n",
    "df_arm_full.head(40)"
   ]
  },
  {
   "cell_type": "markdown",
   "metadata": {},
   "source": [
    "## <p style='font-size:30px;text-align:center;color:Cyan'>XGBoost<p>\n",
    "<center><img src=\"images/xgboost.jpg\"></center>\n",
    "\n",
    "---\n",
    "\n",
    "TODO : \n",
    "    \n",
    "0. faire random forest avec pipeline standardscaler\n",
    "1. faire grille et evaluation des meilleurs hyperparamètres\n",
    "2. voir si avec imputation KNN ou sans mieux ?\n",
    "3. Bons hyperparamètres par defaut pour odele de base??"
   ]
  },
  {
   "cell_type": "markdown",
   "metadata": {},
   "source": [
    "#### <p style='font-size:20px;text-align:center;color:DarkBlue'>Recherche des meilleurs Hyperparamètres<p>\n",
    "<center><img src='images/xgboost_par.jpg'></center>"
   ]
  },
  {
   "cell_type": "markdown",
   "metadata": {},
   "source": [
    "---\n",
    "#### Première approche avec initialisation basique qui sert de référence\n",
    "\n",
    "---"
   ]
  },
  {
   "cell_type": "code",
   "execution_count": 10,
   "metadata": {},
   "outputs": [],
   "source": [
    "# Accuracy de la prédiction\n",
    "from sklearn import metrics\n",
    "def comp(model, x_test, y_test, title):\n",
    "    pred = model.predict(x_test)\n",
    "    print(title+ ' :')\n",
    "    # Accuracy\n",
    "    print(\"Accuracy : \", metrics.accuracy_score(y_test, pred))\n",
    "    # Matrice de confusion\n",
    "    conf = metrics.confusion_matrix(y_test, pred)\n",
    "    normalisation = conf/conf.sum(axis=1)[:, np.newaxis]\n",
    "    sns.heatmap(normalisation, annot=True, cmap='vlag')\n",
    "    plt.xticks(np.arange(2)+0.5, ['Parkisons Disease', 'Podromal'], rotation=25)\n",
    "    plt.yticks(np.arange(2)+0.5, ['Parkisons Disease', 'Podromal'], rotation=0)\n",
    "    plt.xlabel('Predicted label')\n",
    "    plt.ylabel('True label')\n",
    "    plt.title('Matrice de confusion : ')\n",
    "    plt.show()\n",
    "    # Rapport\n",
    "    print(\"Rapport :\\n{}\".format(metrics.classification_report(y_test, pred)))"
   ]
  },
  {
   "cell_type": "code",
   "execution_count": 8,
   "metadata": {},
   "outputs": [
    {
     "name": "stdout",
     "output_type": "stream",
     "text": [
      "[13:16:47] WARNING: ../src/learner.cc:1115: Starting in XGBoost 1.3.0, the default evaluation metric used with the objective 'binary:logistic' was changed from 'error' to 'logloss'. Explicitly set eval_metric if you'd like to restore the old behavior.\n",
      "Base Parameters utilisés :\n",
      "{'base_score': 0.5,\n",
      " 'booster': 'gbtree',\n",
      " 'colsample_bylevel': 1,\n",
      " 'colsample_bynode': 1,\n",
      " 'colsample_bytree': 1,\n",
      " 'enable_categorical': False,\n",
      " 'gamma': 0,\n",
      " 'gpu_id': -1,\n",
      " 'importance_type': None,\n",
      " 'interaction_constraints': '',\n",
      " 'learning_rate': 0.300000012,\n",
      " 'max_delta_step': 0,\n",
      " 'max_depth': 6,\n",
      " 'min_child_weight': 1,\n",
      " 'missing': nan,\n",
      " 'monotone_constraints': '()',\n",
      " 'n_estimators': 100,\n",
      " 'n_jobs': 4,\n",
      " 'num_parallel_tree': 1,\n",
      " 'objective': 'binary:logistic',\n",
      " 'predictor': 'auto',\n",
      " 'random_state': 0,\n",
      " 'reg_alpha': 0,\n",
      " 'reg_lambda': 1,\n",
      " 'scale_pos_weight': 1,\n",
      " 'subsample': 1,\n",
      " 'tree_method': 'exact',\n",
      " 'use_label_encoder': True,\n",
      " 'validate_parameters': 1,\n",
      " 'verbosity': None}\n"
     ]
    },
    {
     "name": "stderr",
     "output_type": "stream",
     "text": [
      "/home/salembien/[/home/salembien/Bureau/anaconda3]/envs/IA/lib/python3.8/site-packages/xgboost/sklearn.py:1224: UserWarning: The use of label encoder in XGBClassifier is deprecated and will be removed in a future release. To remove this warning, do the following: 1) Pass option use_label_encoder=False when constructing XGBClassifier object; and 2) Encode your labels (y) as integers starting with 0, i.e. 0, 1, 2, ..., [num_class - 1].\n",
      "  warnings.warn(label_encoder_deprecation_msg, UserWarning)\n"
     ]
    }
   ],
   "source": [
    "import xgboost as xgb\n",
    "from sklearn import metrics\n",
    "from pprint import pprint\n",
    "from sklearn.model_selection import train_test_split\n",
    "from sklearn.preprocessing import StandardSca\n",
    "from sklearn import model_selection as ms\n",
    "from sklearn.model_selection import RandomizedSearchCV, GridSearchCV\n",
    "\n",
    "x_train, x_test, y_train, y_test = train_test_split(df_arm_full, df_arm['COHORT'], test_size=0.2)\n",
    "xgbc = xgb.XGBClassifier()\n",
    "pipeline = Pipeline([('scaler', StandardScaler()), ('classifieur', xgbc)])\n",
    "xgbc.fit(x_train, y_train)\n",
    "comp(xgbc, x_test, y_test, 'Base XGBC')"
   ]
  },
  {
   "cell_type": "code",
   "execution_count": 11,
   "metadata": {
    "scrolled": false
   },
   "outputs": [
    {
     "name": "stdout",
     "output_type": "stream",
     "text": [
      "Base XGBC :\n",
      "Accuracy :  0.7435897435897436\n"
     ]
    },
    {
     "data": {
      "image/png": "[encoded data removed]",
      "text/plain": [
       "<Figure size 640x480 with 2 Axes>"
      ]
     },
     "metadata": {},
     "output_type": "display_data"
    },
    {
     "name": "stdout",
     "output_type": "stream",
     "text": [
      "Rapport :\n",
      "              precision    recall  f1-score   support\n",
      "\n",
      "         1.0       0.82      0.67      0.74        21\n",
      "         3.0       0.68      0.83      0.75        18\n",
      "\n",
      "    accuracy                           0.74        39\n",
      "   macro avg       0.75      0.75      0.74        39\n",
      "weighted avg       0.76      0.74      0.74        39\n",
      "\n",
      "[13:17:37] WARNING: ../src/learner.cc:1115: Starting in XGBoost 1.3.0, the default evaluation metric used with the objective 'binary:logistic' was changed from 'error' to 'logloss'. Explicitly set eval_metric if you'd like to restore the old behavior.\n",
      "[13:17:37] WARNING: ../src/learner.cc:1115: Starting in XGBoost 1.3.0, the default evaluation metric used with the objective 'binary:logistic' was changed from 'error' to 'logloss'. Explicitly set eval_metric if you'd like to restore the old behavior.\n",
      "[13:17:37] WARNING: ../src/learner.cc:1115: Starting in XGBoost 1.3.0, the default evaluation metric used with the objective 'binary:logistic' was changed from 'error' to 'logloss'. Explicitly set eval_metric if you'd like to restore the old behavior.\n",
      "[13:17:37] WARNING: ../src/learner.cc:1115: Starting in XGBoost 1.3.0, the default evaluation metric used with the objective 'binary:logistic' was changed from 'error' to 'logloss'. Explicitly set eval_metric if you'd like to restore the old behavior.\n",
      "[13:17:37] WARNING: ../src/learner.cc:1115: Starting in XGBoost 1.3.0, the default evaluation metric used with the objective 'binary:logistic' was changed from 'error' to 'logloss'. Explicitly set eval_metric if you'd like to restore the old behavior.\n",
      "K-fold Cross Validation vaut en moyenne: 0.72\n"
     ]
    }
   ],
   "source": [
    "\n",
    "# kf = ms.KFold(n_splits=5, shuffle=True)\n",
    "#kf_scores = ms.cross_val_score(xgbc, x_train, y_train, cv=kf)\n",
    "#print(\"K-fold Cross Validation vaut en moyenne: {:.2f}\".format(kf_scores.mean()))"
   ]
  },
  {
   "cell_type": "markdown",
   "metadata": {},
   "source": [
    "---\n",
    "**Analyse plus fine des paramètres**\n",
    "\n",
    "---"
   ]
  },
  {
   "cell_type": "code",
   "execution_count": 14,
   "metadata": {},
   "outputs": [],
   "source": [
    "# 1er balayage sur large éventail de sets d'hyperparamètres avec RandomizedSearchCV\n",
    "\n",
    "grille_xgb = { \n",
    "        'learning_rate': [0.05, 0.1, 0.3, 0.7],\n",
    "        'n_estimators':[50, 200, 500, 1000],\n",
    "        'max_depth': [i for i in range(3,20,2)],\n",
    "        'lambda': [1],\n",
    "        'min_child_weight': [1, 5, 10],\n",
    "        'gamma': [0.01, 0.1, 0.5, 1],\n",
    "        'subsample': [0.1, 0.5, 1, 5],\n",
    "        'colsample_bytree': [0.05, 0.1, 0.5, 1],\n",
    "        'max_depth': [2, 5, 10, 20]}\n",
    "\n",
    "# Choix aléatoire parmi 4*4*9*1*3*4*4*4*4=110592 combinaisons de paramètres possibles"
   ]
  },
  {
   "cell_type": "code",
   "execution_count": 15,
   "metadata": {
    "scrolled": false
   },
   "outputs": [
    {
     "name": "stderr",
     "output_type": "stream",
     "text": [
      "/home/salembien/[/home/salembien/Bureau/anaconda3]/envs/IA/lib/python3.8/site-packages/xgboost/sklearn.py:1224: UserWarning: The use of label encoder in XGBClassifier is deprecated and will be removed in a future release. To remove this warning, do the following: 1) Pass option use_label_encoder=False when constructing XGBClassifier object; and 2) Encode your labels (y) as integers starting with 0, i.e. 0, 1, 2, ..., [num_class - 1].\n",
      "  warnings.warn(label_encoder_deprecation_msg, UserWarning)\n"
     ]
    },
    {
     "name": "stdout",
     "output_type": "stream",
     "text": [
      "[13:58:11] WARNING: ../src/learner.cc:1115: Starting in XGBoost 1.3.0, the default evaluation metric used with the objective 'binary:logistic' was changed from 'error' to 'logloss'. Explicitly set eval_metric if you'd like to restore the old behavior.\n"
     ]
    },
    {
     "data": {
      "text/plain": [
       "{'subsample': 0.5,\n",
       " 'n_estimators': 500,\n",
       " 'min_child_weight': 1,\n",
       " 'max_depth': 20,\n",
       " 'learning_rate': 0.1,\n",
       " 'lambda': 1,\n",
       " 'gamma': 1,\n",
       " 'colsample_bytree': 0.1}"
      ]
     },
     "execution_count": 15,
     "metadata": {},
     "output_type": "execute_result"
    }
   ],
   "source": [
    "# Random Search CV training\n",
    "\n",
    "# 500 combinaisons et K = 5 folds\n",
    "xgbc_random = RandomizedSearchCV(estimator = xgbc, param_distributions = grille_xgb, n_iter = 500, cv = 5, n_jobs = -1)\n",
    "xgbc_random.fit(x_train, y_train)\n",
    "xgbc_random.best_params_"
   ]
  },
  {
   "cell_type": "markdown",
   "metadata": {},
   "source": [
    "500 combinaisons et K=5folds:\n",
    "{'subsample': 1,\n",
    " 'n_estimators': 1000,\n",
    " 'min_child_weight': 1,\n",
    " 'max_depth': 2,\n",
    " 'learning_rate': 0.7,\n",
    " 'lambda': 1,\n",
    " 'gamma': 1,\n",
    " 'colsample_bytree': 0.1}"
   ]
  },
  {
   "cell_type": "code",
   "execution_count": null,
   "metadata": {},
   "outputs": [],
   "source": []
  }
 ],
 "metadata": {
  "kernelspec": {
   "display_name": "Python 3",
   "language": "python",
   "name": "python3"
  },
  "language_info": {
   "codemirror_mode": {
    "name": "ipython",
    "version": 3
   },
   "file_extension": ".py",
   "mimetype": "text/x-python",
   "name": "python",
   "nbconvert_exporter": "python",
   "pygments_lexer": "ipython3",
   "version": "3.8.5"
  }
 },
 "nbformat": 4,
 "nbformat_minor": 4
}
